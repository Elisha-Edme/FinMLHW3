{
  "cells": [
    {
      "cell_type": "markdown",
      "metadata": {
        "id": "0VmLvt9Vb86j"
      },
      "source": [
        "Install required scraping libraries (can take 5 minutes)"
      ]
    },
    {
      "cell_type": "markdown",
      "metadata": {
        "id": "9kB8MQqWj8T1"
      },
      "source": [
        "Scrape for S&P Constituents and Grab Wikipedia Page"
      ]
    },
    {
      "cell_type": "code",
      "execution_count": 1,
      "metadata": {
        "colab": {
          "base_uri": "https://localhost:8080/",
          "height": 399
        },
        "id": "_yQo3QlvlFHt",
        "outputId": "dc42b428-1fe9-4789-c90a-91c6d2f7f123"
      },
      "outputs": [],
      "source": [
        "import pandas as pd\n",
        "import html5lib\n",
        "from bs4 import BeautifulSoup\n",
        "import requests\n",
        "# Scrape the entire S&P500 list from Wikipedia into a Pandas DataFrame;\n",
        "ticker_list = pd.read_html(\n",
        "'https://en.wikipedia.org/wiki/List_of_S%26P_500_companies')\n",
        "# print(ticker_list)\n",
        "\n",
        "df = ticker_list[0]\n",
        "# Drop a few unwanted columns of data;\n",
        "# df.drop(columns = ['SEC filings', 'Date first added', 'Founded'], inplace = True)\n",
        "# Fill out CIK codes by converting to string then adding in 0's up to 10 digits.\n",
        "df.CIK = df.CIK.astype(str)\n",
        "df['CIK'] = df['CIK'].str.zfill(10)\n",
        "request = requests.get(\n",
        "'https://en.wikipedia.org/wiki/List_of_S%26P_500_companies')\n",
        "df['WIKI_URL'] = ''\n",
        "soup = BeautifulSoup(request.content)\n",
        "main_table = soup.find(id='constituents')\n",
        "table = main_table.find('tbody').findAll('tr')\n",
        "table = table[1:]\n",
        "base_url = 'https://en.wikipedia.org'\n",
        "url_list = []\n",
        "for item in table:\n",
        "    url = base_url + str(item.findAll('a')[1]['href'])\n",
        "    url_list.append(url)\n",
        "\n",
        "df['WIKI_URL'] = url_list\n",
        "df = df[df[\"Symbol\"]!=\"POOL\"].reset_index(drop=True)\n",
        "df.tail()\n",
        "df[\"Search\"] = df[\"WIKI_URL\"].str.split(\"https://en.wikipedia.org/\").apply(lambda x:x[1].split('/')[1])\n",
        "#df[df[\"WIKI_URL\"]]\n",
        "import json\n",
        "apps = []\n",
        "\n",
        "for name in df[\"Search\"].to_list():\n",
        "  r = requests.get(\"https://en.wikipedia.org/w/api.php?action=query&format=json&titles=\"+name+\"&redirects\", allow_redirects=False)\n",
        "  data = json.loads(r.text)\n",
        "  try:\n",
        "    dal = data[\"query\"][\"redirects\"][0][\"to\"]\n",
        "  except:\n",
        "    try:\n",
        "      dal = data[\"query\"][\"normalized\"][0][\"to\"]\n",
        "    except:\n",
        "      dal = name\n",
        "  apps.append(dal)\n",
        "df[\"clean_search\"] = apps\n"
      ]
    },
    {
      "cell_type": "code",
      "execution_count": 2,
      "metadata": {
        "colab": {
          "base_uri": "https://localhost:8080/",
          "height": 409
        },
        "id": "eLrCVbbymFOM",
        "outputId": "9bae1459-e4db-4ca5-c466-dd4aab64e60a"
      },
      "outputs": [
        {
          "data": {
            "text/html": [
              "<div>\n",
              "<style scoped>\n",
              "    .dataframe tbody tr th:only-of-type {\n",
              "        vertical-align: middle;\n",
              "    }\n",
              "\n",
              "    .dataframe tbody tr th {\n",
              "        vertical-align: top;\n",
              "    }\n",
              "\n",
              "    .dataframe thead th {\n",
              "        text-align: right;\n",
              "    }\n",
              "</style>\n",
              "<table border=\"1\" class=\"dataframe\">\n",
              "  <thead>\n",
              "    <tr style=\"text-align: right;\">\n",
              "      <th></th>\n",
              "      <th>Symbol</th>\n",
              "      <th>Security</th>\n",
              "      <th>GICS Sector</th>\n",
              "      <th>GICS Sub-Industry</th>\n",
              "      <th>Headquarters Location</th>\n",
              "      <th>Date added</th>\n",
              "      <th>CIK</th>\n",
              "      <th>Founded</th>\n",
              "      <th>WIKI_URL</th>\n",
              "      <th>Search</th>\n",
              "      <th>clean_search</th>\n",
              "    </tr>\n",
              "  </thead>\n",
              "  <tbody>\n",
              "    <tr>\n",
              "      <th>0</th>\n",
              "      <td>MMM</td>\n",
              "      <td>3M</td>\n",
              "      <td>Industrials</td>\n",
              "      <td>Industrial Conglomerates</td>\n",
              "      <td>Saint Paul, Minnesota</td>\n",
              "      <td>1957-03-04</td>\n",
              "      <td>0000066740</td>\n",
              "      <td>1902</td>\n",
              "      <td>https://en.wikipedia.org/wiki/3M</td>\n",
              "      <td>3M</td>\n",
              "      <td>3M</td>\n",
              "    </tr>\n",
              "    <tr>\n",
              "      <th>1</th>\n",
              "      <td>AOS</td>\n",
              "      <td>A. O. Smith</td>\n",
              "      <td>Industrials</td>\n",
              "      <td>Building Products</td>\n",
              "      <td>Milwaukee, Wisconsin</td>\n",
              "      <td>2017-07-26</td>\n",
              "      <td>0000091142</td>\n",
              "      <td>1916</td>\n",
              "      <td>https://en.wikipedia.org/wiki/A._O._Smith</td>\n",
              "      <td>A. O. Smith</td>\n",
              "      <td>A. O. Smith</td>\n",
              "    </tr>\n",
              "    <tr>\n",
              "      <th>2</th>\n",
              "      <td>ABT</td>\n",
              "      <td>Abbott</td>\n",
              "      <td>Health Care</td>\n",
              "      <td>Health Care Equipment</td>\n",
              "      <td>North Chicago, Illinois</td>\n",
              "      <td>1957-03-04</td>\n",
              "      <td>0000001800</td>\n",
              "      <td>1888</td>\n",
              "      <td>https://en.wikipedia.org/wiki/Abbott_Laboratories</td>\n",
              "      <td>Abbott Laboratories</td>\n",
              "      <td>Abbott Laboratories</td>\n",
              "    </tr>\n",
              "    <tr>\n",
              "      <th>3</th>\n",
              "      <td>ABBV</td>\n",
              "      <td>AbbVie</td>\n",
              "      <td>Health Care</td>\n",
              "      <td>Pharmaceuticals</td>\n",
              "      <td>North Chicago, Illinois</td>\n",
              "      <td>2012-12-31</td>\n",
              "      <td>0001551152</td>\n",
              "      <td>2013 (1888)</td>\n",
              "      <td>https://en.wikipedia.org/wiki/AbbVie</td>\n",
              "      <td>AbbVie</td>\n",
              "      <td>AbbVie</td>\n",
              "    </tr>\n",
              "    <tr>\n",
              "      <th>4</th>\n",
              "      <td>ACN</td>\n",
              "      <td>Accenture</td>\n",
              "      <td>Information Technology</td>\n",
              "      <td>IT Consulting &amp; Other Services</td>\n",
              "      <td>Dublin, Ireland</td>\n",
              "      <td>2011-07-06</td>\n",
              "      <td>0001467373</td>\n",
              "      <td>1989</td>\n",
              "      <td>https://en.wikipedia.org/wiki/Accenture</td>\n",
              "      <td>Accenture</td>\n",
              "      <td>Accenture</td>\n",
              "    </tr>\n",
              "  </tbody>\n",
              "</table>\n",
              "</div>"
            ],
            "text/plain": [
              "  Symbol     Security             GICS Sector               GICS Sub-Industry  \\\n",
              "0    MMM           3M             Industrials        Industrial Conglomerates   \n",
              "1    AOS  A. O. Smith             Industrials               Building Products   \n",
              "2    ABT       Abbott             Health Care           Health Care Equipment   \n",
              "3   ABBV       AbbVie             Health Care                 Pharmaceuticals   \n",
              "4    ACN    Accenture  Information Technology  IT Consulting & Other Services   \n",
              "\n",
              "     Headquarters Location  Date added         CIK      Founded  \\\n",
              "0    Saint Paul, Minnesota  1957-03-04  0000066740         1902   \n",
              "1     Milwaukee, Wisconsin  2017-07-26  0000091142         1916   \n",
              "2  North Chicago, Illinois  1957-03-04  0000001800         1888   \n",
              "3  North Chicago, Illinois  2012-12-31  0001551152  2013 (1888)   \n",
              "4          Dublin, Ireland  2011-07-06  0001467373         1989   \n",
              "\n",
              "                                            WIKI_URL               Search  \\\n",
              "0                   https://en.wikipedia.org/wiki/3M                   3M   \n",
              "1          https://en.wikipedia.org/wiki/A._O._Smith          A. O. Smith   \n",
              "2  https://en.wikipedia.org/wiki/Abbott_Laboratories  Abbott Laboratories   \n",
              "3               https://en.wikipedia.org/wiki/AbbVie               AbbVie   \n",
              "4            https://en.wikipedia.org/wiki/Accenture            Accenture   \n",
              "\n",
              "          clean_search  \n",
              "0                   3M  \n",
              "1          A. O. Smith  \n",
              "2  Abbott Laboratories  \n",
              "3               AbbVie  \n",
              "4            Accenture  "
            ]
          },
          "execution_count": 2,
          "metadata": {},
          "output_type": "execute_result"
        }
      ],
      "source": [
        "df[\"Search\"]=df[\"Search\"].apply(lambda x: x.replace(\"_\", \" \"))\n",
        "df.head()"
      ]
    },
    {
      "cell_type": "markdown",
      "metadata": {
        "id": "uRN9IPv1mNee"
      },
      "source": [
        "Now we want to use a pre-built scraper to grab the appropriate data on the MSCI website. To learn more about the scraper you can go and visit [this](https://github.com/austinjhunt/msci_esg/blob/master/msci_esg/ratefinder.py) python repository. This scraper package broke, this is a normal part of coding, let's ignore this part, and go straight to the data from an earlier export below."
      ]
    },
    {
      "cell_type": "code",
      "execution_count": 3,
      "metadata": {
        "colab": {
          "base_uri": "https://localhost:8080/",
          "height": 236
        },
        "id": "1FB66Krfa_fd",
        "outputId": "b063ea20-4ca8-4e13-8056-1610ecc0daab"
      },
      "outputs": [],
      "source": [
        "# ## SCRAPER doesn't work perfectly (few scrapers do), move on to data section\n",
        "# from msci_esg.ratefinder import ESGRateFinder\n",
        "# import pandas as pd\n",
        "# from selenium import webdriver\n",
        "\n",
        "# driver = webdriver.PhantomJS('phantomjs')\n",
        "\n",
        "# # Create an ESGRateFinder object, optionally passing in debug=True for more print statements\n",
        "# ratefinder = ESGRateFinder()\n",
        "\n",
        "# # Call the ratefinder object's get_esg_rating method, passing in the Apple stock symbol and\n",
        "# # a JS timeout of 5 seconds (this is how long the Selenium web driver should wait for JS to execute\n",
        "# # before scraping content)\n",
        "\n",
        "# rep_full = {}\n",
        "# for tick in df[\"Symbol\"].head(15).to_list():\n",
        "#   try:\n",
        "#     response = ratefinder.get_esg_rating(\n",
        "#         symbol=tick,\n",
        "#         js_timeout=5\n",
        "#     )\n",
        "#     rep_full[tick]=response\n",
        "#     print(\"success \"+tick)\n",
        "#   except:\n",
        "#     print(\"fail \"+tick)\n",
        "#     continue"
      ]
    },
    {
      "cell_type": "code",
      "execution_count": 4,
      "metadata": {
        "colab": {
          "base_uri": "https://localhost:8080/"
        },
        "id": "6VIrWhWAnyaW",
        "outputId": "465b95d2-13b6-4db3-ade9-7acd94fcdaa5"
      },
      "outputs": [
        {
          "name": "stdout",
          "output_type": "stream",
          "text": [
            "--2023-11-08 02:14:24--  https://open-data.s3.filebase.com/rep_full.p\n",
            "Resolving open-data.s3.filebase.com (open-data.s3.filebase.com)... 135.148.54.72, 135.148.54.52, 135.148.54.71\n",
            "Connecting to open-data.s3.filebase.com (open-data.s3.filebase.com)|135.148.54.72|:443... "
          ]
        },
        {
          "name": "stdout",
          "output_type": "stream",
          "text": [
            "connected.\n",
            "HTTP request sent, awaiting response... 200 OK\n",
            "Length: 108374 (106K) [application/octet-stream]\n",
            "Saving to: 'rep_full.p.2'\n",
            "\n",
            "rep_full.p.2        100%[===================>] 105.83K  --.-KB/s    in 0.03s   \n",
            "\n",
            "2023-11-08 02:14:24 (2.97 MB/s) - 'rep_full.p.2' saved [108374/108374]\n",
            "\n"
          ]
        }
      ],
      "source": [
        "!wget https://open-data.s3.filebase.com/rep_full.p"
      ]
    },
    {
      "cell_type": "code",
      "execution_count": 5,
      "metadata": {
        "id": "LlJ63QrPiF-V"
      },
      "outputs": [],
      "source": [
        "import pickle\n",
        "import pandas as pd\n",
        "\n",
        "rep_full = pickle.load(open(\"rep_full.p\", \"rb\"))\n",
        "test= pd.DataFrame.from_dict(rep_full)\n",
        "df= pd.DataFrame.from_dict(rep_full)"
      ]
    },
    {
      "cell_type": "code",
      "execution_count": 6,
      "metadata": {},
      "outputs": [
        {
          "data": {
            "text/html": [
              "<div>\n",
              "<style scoped>\n",
              "    .dataframe tbody tr th:only-of-type {\n",
              "        vertical-align: middle;\n",
              "    }\n",
              "\n",
              "    .dataframe tbody tr th {\n",
              "        vertical-align: top;\n",
              "    }\n",
              "\n",
              "    .dataframe thead th {\n",
              "        text-align: right;\n",
              "    }\n",
              "</style>\n",
              "<table border=\"1\" class=\"dataframe\">\n",
              "  <thead>\n",
              "    <tr style=\"text-align: right;\">\n",
              "      <th></th>\n",
              "      <th>MMM</th>\n",
              "      <th>AOS</th>\n",
              "      <th>ABT</th>\n",
              "      <th>ABBV</th>\n",
              "      <th>ACN</th>\n",
              "      <th>ATVI</th>\n",
              "      <th>AYI</th>\n",
              "      <th>ADBE</th>\n",
              "      <th>AAP</th>\n",
              "      <th>AMD</th>\n",
              "      <th>...</th>\n",
              "      <th>WYNN</th>\n",
              "      <th>XEL</th>\n",
              "      <th>XRX</th>\n",
              "      <th>XLNX</th>\n",
              "      <th>XL</th>\n",
              "      <th>XYL</th>\n",
              "      <th>YUM</th>\n",
              "      <th>ZBH</th>\n",
              "      <th>ZION</th>\n",
              "      <th>ZTS</th>\n",
              "    </tr>\n",
              "  </thead>\n",
              "  <tbody>\n",
              "    <tr>\n",
              "      <th>rating-paragraph</th>\n",
              "      <td>3M is a leader among 36 companies in the indus...</td>\n",
              "      <td>A. O. Smith is average among 24 companies in t...</td>\n",
              "      <td>NaN</td>\n",
              "      <td>AbbVie is average among 39 companies in the bi...</td>\n",
              "      <td>Accenture is average among 143 companies in th...</td>\n",
              "      <td>NaN</td>\n",
              "      <td>NaN</td>\n",
              "      <td>NaN</td>\n",
              "      <td>NaN</td>\n",
              "      <td>NaN</td>\n",
              "      <td>...</td>\n",
              "      <td>NaN</td>\n",
              "      <td>NaN</td>\n",
              "      <td>NaN</td>\n",
              "      <td>NaN</td>\n",
              "      <td>NaN</td>\n",
              "      <td>XYLEM is a leader among 51 companies in the in...</td>\n",
              "      <td>NaN</td>\n",
              "      <td>Zimmer Biomet is a laggard among 93 companies ...</td>\n",
              "      <td>NaN</td>\n",
              "      <td>Zoetis is a leader among 99 companies in the p...</td>\n",
              "    </tr>\n",
              "    <tr>\n",
              "      <th>rating-history-paragraph</th>\n",
              "      <td>3M's rating remains unchanged since August, 2017.</td>\n",
              "      <td>A. O. Smith's rating remains unchanged since F...</td>\n",
              "      <td>NaN</td>\n",
              "      <td>AbbVie's rating remains unchanged since Octobe...</td>\n",
              "      <td>Accenture was downgraded in December, 2020.</td>\n",
              "      <td>NaN</td>\n",
              "      <td>NaN</td>\n",
              "      <td>NaN</td>\n",
              "      <td>NaN</td>\n",
              "      <td>NaN</td>\n",
              "      <td>...</td>\n",
              "      <td>NaN</td>\n",
              "      <td>NaN</td>\n",
              "      <td>NaN</td>\n",
              "      <td>NaN</td>\n",
              "      <td>NaN</td>\n",
              "      <td>XYLEM's rating remains unchanged since Februar...</td>\n",
              "      <td>NaN</td>\n",
              "      <td>Zimmer Biomet was upgraded in May, 2020.</td>\n",
              "      <td>NaN</td>\n",
              "      <td>Zoetis was upgraded in March, 2021.</td>\n",
              "    </tr>\n",
              "    <tr>\n",
              "      <th>current</th>\n",
              "      <td>{'esg_rating': 'aaa', 'esg_category': 'leader'}</td>\n",
              "      <td>{'esg_rating': 'bbb', 'esg_category': 'average'}</td>\n",
              "      <td>NaN</td>\n",
              "      <td>{'esg_rating': 'a', 'esg_category': 'average'}</td>\n",
              "      <td>{'esg_rating': 'a', 'esg_category': 'average'}</td>\n",
              "      <td>NaN</td>\n",
              "      <td>NaN</td>\n",
              "      <td>NaN</td>\n",
              "      <td>NaN</td>\n",
              "      <td>NaN</td>\n",
              "      <td>...</td>\n",
              "      <td>NaN</td>\n",
              "      <td>NaN</td>\n",
              "      <td>NaN</td>\n",
              "      <td>NaN</td>\n",
              "      <td>NaN</td>\n",
              "      <td>{'esg_rating': 'aaa', 'esg_category': 'leader'}</td>\n",
              "      <td>NaN</td>\n",
              "      <td>{'esg_rating': 'b', 'esg_category': 'laggard'}</td>\n",
              "      <td>NaN</td>\n",
              "      <td>{'esg_rating': 'aa', 'esg_category': 'leader'}</td>\n",
              "    </tr>\n",
              "    <tr>\n",
              "      <th>history</th>\n",
              "      <td>{'sep-16': 'aaa', 'aug-17': 'aaa', 'aug-18': '...</td>\n",
              "      <td>{'feb-17': 'bbb', 'feb-18': 'bb', 'feb-19': 'b...</td>\n",
              "      <td>NaN</td>\n",
              "      <td>{'oct-16': 'bbb', 'oct-17': 'bbb', 'oct-18': '...</td>\n",
              "      <td>{'jun-17': 'aaa', 'jun-18': 'aaa', 'mar-19': '...</td>\n",
              "      <td>NaN</td>\n",
              "      <td>NaN</td>\n",
              "      <td>NaN</td>\n",
              "      <td>NaN</td>\n",
              "      <td>NaN</td>\n",
              "      <td>...</td>\n",
              "      <td>NaN</td>\n",
              "      <td>NaN</td>\n",
              "      <td>NaN</td>\n",
              "      <td>NaN</td>\n",
              "      <td>NaN</td>\n",
              "      <td>{'feb-17': 'aa', 'feb-18': 'aa', 'feb-19': 'aa...</td>\n",
              "      <td>NaN</td>\n",
              "      <td>{'dec-16': 'ccc', 'dec-17': 'ccc', 'dec-18': '...</td>\n",
              "      <td>NaN</td>\n",
              "      <td>{'sep-17': 'aa', 'dec-18': 'a', 'jun-19': 'a',...</td>\n",
              "    </tr>\n",
              "  </tbody>\n",
              "</table>\n",
              "<p>4 rows × 505 columns</p>\n",
              "</div>"
            ],
            "text/plain": [
              "                                                                        MMM  \\\n",
              "rating-paragraph          3M is a leader among 36 companies in the indus...   \n",
              "rating-history-paragraph  3M's rating remains unchanged since August, 2017.   \n",
              "current                     {'esg_rating': 'aaa', 'esg_category': 'leader'}   \n",
              "history                   {'sep-16': 'aaa', 'aug-17': 'aaa', 'aug-18': '...   \n",
              "\n",
              "                                                                        AOS  \\\n",
              "rating-paragraph          A. O. Smith is average among 24 companies in t...   \n",
              "rating-history-paragraph  A. O. Smith's rating remains unchanged since F...   \n",
              "current                    {'esg_rating': 'bbb', 'esg_category': 'average'}   \n",
              "history                   {'feb-17': 'bbb', 'feb-18': 'bb', 'feb-19': 'b...   \n",
              "\n",
              "                          ABT  \\\n",
              "rating-paragraph          NaN   \n",
              "rating-history-paragraph  NaN   \n",
              "current                   NaN   \n",
              "history                   NaN   \n",
              "\n",
              "                                                                       ABBV  \\\n",
              "rating-paragraph          AbbVie is average among 39 companies in the bi...   \n",
              "rating-history-paragraph  AbbVie's rating remains unchanged since Octobe...   \n",
              "current                      {'esg_rating': 'a', 'esg_category': 'average'}   \n",
              "history                   {'oct-16': 'bbb', 'oct-17': 'bbb', 'oct-18': '...   \n",
              "\n",
              "                                                                        ACN  \\\n",
              "rating-paragraph          Accenture is average among 143 companies in th...   \n",
              "rating-history-paragraph        Accenture was downgraded in December, 2020.   \n",
              "current                      {'esg_rating': 'a', 'esg_category': 'average'}   \n",
              "history                   {'jun-17': 'aaa', 'jun-18': 'aaa', 'mar-19': '...   \n",
              "\n",
              "                          ATVI  AYI  ADBE  AAP  AMD  ... WYNN  XEL  XRX XLNX  \\\n",
              "rating-paragraph           NaN  NaN   NaN  NaN  NaN  ...  NaN  NaN  NaN  NaN   \n",
              "rating-history-paragraph   NaN  NaN   NaN  NaN  NaN  ...  NaN  NaN  NaN  NaN   \n",
              "current                    NaN  NaN   NaN  NaN  NaN  ...  NaN  NaN  NaN  NaN   \n",
              "history                    NaN  NaN   NaN  NaN  NaN  ...  NaN  NaN  NaN  NaN   \n",
              "\n",
              "                          XL  \\\n",
              "rating-paragraph         NaN   \n",
              "rating-history-paragraph NaN   \n",
              "current                  NaN   \n",
              "history                  NaN   \n",
              "\n",
              "                                                                        XYL  \\\n",
              "rating-paragraph          XYLEM is a leader among 51 companies in the in...   \n",
              "rating-history-paragraph  XYLEM's rating remains unchanged since Februar...   \n",
              "current                     {'esg_rating': 'aaa', 'esg_category': 'leader'}   \n",
              "history                   {'feb-17': 'aa', 'feb-18': 'aa', 'feb-19': 'aa...   \n",
              "\n",
              "                         YUM  \\\n",
              "rating-paragraph         NaN   \n",
              "rating-history-paragraph NaN   \n",
              "current                  NaN   \n",
              "history                  NaN   \n",
              "\n",
              "                                                                        ZBH  \\\n",
              "rating-paragraph          Zimmer Biomet is a laggard among 93 companies ...   \n",
              "rating-history-paragraph           Zimmer Biomet was upgraded in May, 2020.   \n",
              "current                      {'esg_rating': 'b', 'esg_category': 'laggard'}   \n",
              "history                   {'dec-16': 'ccc', 'dec-17': 'ccc', 'dec-18': '...   \n",
              "\n",
              "                          ZION  \\\n",
              "rating-paragraph           NaN   \n",
              "rating-history-paragraph   NaN   \n",
              "current                    NaN   \n",
              "history                    NaN   \n",
              "\n",
              "                                                                        ZTS  \n",
              "rating-paragraph          Zoetis is a leader among 99 companies in the p...  \n",
              "rating-history-paragraph                Zoetis was upgraded in March, 2021.  \n",
              "current                      {'esg_rating': 'aa', 'esg_category': 'leader'}  \n",
              "history                   {'sep-17': 'aa', 'dec-18': 'a', 'jun-19': 'a',...  \n",
              "\n",
              "[4 rows x 505 columns]"
            ]
          },
          "execution_count": 6,
          "metadata": {},
          "output_type": "execute_result"
        }
      ],
      "source": [
        "df.head()"
      ]
    },
    {
      "cell_type": "code",
      "execution_count": 7,
      "metadata": {},
      "outputs": [],
      "source": [
        "df = df[df.index==\"current\"].dropna(axis=1).T"
      ]
    },
    {
      "cell_type": "code",
      "execution_count": 8,
      "metadata": {
        "colab": {
          "base_uri": "https://localhost:8080/"
        },
        "id": "tWyF7-7r2wsE",
        "outputId": "09f25917-86c6-4003-b9bd-bd59eb8c5952"
      },
      "outputs": [
        {
          "data": {
            "text/plain": [
              "{'esg_rating': 'aaa', 'esg_category': 'leader'}"
            ]
          },
          "execution_count": 8,
          "metadata": {},
          "output_type": "execute_result"
        }
      ],
      "source": [
        "df[\"current\"][0]"
      ]
    },
    {
      "cell_type": "code",
      "execution_count": 9,
      "metadata": {
        "colab": {
          "base_uri": "https://localhost:8080/",
          "height": 35
        },
        "id": "wDU1MzE7oNp8",
        "outputId": "33c93db3-0a40-4dc3-e534-d8ef24309935"
      },
      "outputs": [
        {
          "data": {
            "text/plain": [
              "'aaa'"
            ]
          },
          "execution_count": 9,
          "metadata": {},
          "output_type": "execute_result"
        }
      ],
      "source": [
        "df.iloc[0][0][\"esg_rating\"]"
      ]
    },
    {
      "cell_type": "code",
      "execution_count": 10,
      "metadata": {
        "id": "YmfwLXju2cv9"
      },
      "outputs": [],
      "source": [
        "df[\"risk\"] = df[\"current\"].apply(lambda x: x[\"esg_rating\"])"
      ]
    },
    {
      "cell_type": "code",
      "execution_count": 11,
      "metadata": {
        "id": "k5an1b463JRh"
      },
      "outputs": [],
      "source": [
        "rep = {\"ccc\":7, \"b\":6, \"bb\":5, \"bbb\":4, \"a\":3, \"aa\":2, \"aaa\":1}"
      ]
    },
    {
      "cell_type": "code",
      "execution_count": 12,
      "metadata": {
        "id": "jaeJJP4e5AqU"
      },
      "outputs": [],
      "source": [
        "df.index.name = \"Ticker\""
      ]
    },
    {
      "cell_type": "code",
      "execution_count": 13,
      "metadata": {
        "id": "DS_aMX-U4a5G"
      },
      "outputs": [],
      "source": [
        "df=df.replace({\"risk\": rep})"
      ]
    },
    {
      "cell_type": "code",
      "execution_count": 14,
      "metadata": {
        "id": "hUZB717R5IwD"
      },
      "outputs": [],
      "source": [
        "df[\"risk\"] = df[\"risk\"]/df[\"risk\"].max()"
      ]
    },
    {
      "cell_type": "code",
      "execution_count": 15,
      "metadata": {
        "id": "maB7hl3b1Vf9"
      },
      "outputs": [],
      "source": [
        "df = df.reset_index()"
      ]
    },
    {
      "cell_type": "code",
      "execution_count": 16,
      "metadata": {
        "colab": {
          "base_uri": "https://localhost:8080/",
          "height": 206
        },
        "id": "NgAkzV347Tl1",
        "outputId": "7b32b954-52ea-4f7e-ad62-bdf360e6440a"
      },
      "outputs": [
        {
          "data": {
            "text/html": [
              "<div>\n",
              "<style scoped>\n",
              "    .dataframe tbody tr th:only-of-type {\n",
              "        vertical-align: middle;\n",
              "    }\n",
              "\n",
              "    .dataframe tbody tr th {\n",
              "        vertical-align: top;\n",
              "    }\n",
              "\n",
              "    .dataframe thead th {\n",
              "        text-align: right;\n",
              "    }\n",
              "</style>\n",
              "<table border=\"1\" class=\"dataframe\">\n",
              "  <thead>\n",
              "    <tr style=\"text-align: right;\">\n",
              "      <th></th>\n",
              "      <th>Ticker</th>\n",
              "      <th>current</th>\n",
              "      <th>risk</th>\n",
              "    </tr>\n",
              "  </thead>\n",
              "  <tbody>\n",
              "    <tr>\n",
              "      <th>0</th>\n",
              "      <td>MMM</td>\n",
              "      <td>{'esg_rating': 'aaa', 'esg_category': 'leader'}</td>\n",
              "      <td>0.142857</td>\n",
              "    </tr>\n",
              "    <tr>\n",
              "      <th>1</th>\n",
              "      <td>AOS</td>\n",
              "      <td>{'esg_rating': 'bbb', 'esg_category': 'average'}</td>\n",
              "      <td>0.571429</td>\n",
              "    </tr>\n",
              "    <tr>\n",
              "      <th>2</th>\n",
              "      <td>ABBV</td>\n",
              "      <td>{'esg_rating': 'a', 'esg_category': 'average'}</td>\n",
              "      <td>0.428571</td>\n",
              "    </tr>\n",
              "    <tr>\n",
              "      <th>3</th>\n",
              "      <td>ACN</td>\n",
              "      <td>{'esg_rating': 'a', 'esg_category': 'average'}</td>\n",
              "      <td>0.428571</td>\n",
              "    </tr>\n",
              "    <tr>\n",
              "      <th>4</th>\n",
              "      <td>AES</td>\n",
              "      <td>{'esg_rating': 'a', 'esg_category': 'average'}</td>\n",
              "      <td>0.428571</td>\n",
              "    </tr>\n",
              "  </tbody>\n",
              "</table>\n",
              "</div>"
            ],
            "text/plain": [
              "  Ticker                                           current      risk\n",
              "0    MMM   {'esg_rating': 'aaa', 'esg_category': 'leader'}  0.142857\n",
              "1    AOS  {'esg_rating': 'bbb', 'esg_category': 'average'}  0.571429\n",
              "2   ABBV    {'esg_rating': 'a', 'esg_category': 'average'}  0.428571\n",
              "3    ACN    {'esg_rating': 'a', 'esg_category': 'average'}  0.428571\n",
              "4    AES    {'esg_rating': 'a', 'esg_category': 'average'}  0.428571"
            ]
          },
          "execution_count": 16,
          "metadata": {},
          "output_type": "execute_result"
        }
      ],
      "source": [
        "df.head()"
      ]
    },
    {
      "cell_type": "code",
      "execution_count": 17,
      "metadata": {
        "colab": {
          "base_uri": "https://localhost:8080/",
          "height": 423
        },
        "id": "lKj954eYdZEd",
        "outputId": "72e0e56c-a66c-4ff4-fd18-b3f2f08b4d07"
      },
      "outputs": [
        {
          "data": {
            "text/html": [
              "<div>\n",
              "<style scoped>\n",
              "    .dataframe tbody tr th:only-of-type {\n",
              "        vertical-align: middle;\n",
              "    }\n",
              "\n",
              "    .dataframe tbody tr th {\n",
              "        vertical-align: top;\n",
              "    }\n",
              "\n",
              "    .dataframe thead th {\n",
              "        text-align: right;\n",
              "    }\n",
              "</style>\n",
              "<table border=\"1\" class=\"dataframe\">\n",
              "  <thead>\n",
              "    <tr style=\"text-align: right;\">\n",
              "      <th></th>\n",
              "      <th>Ticker</th>\n",
              "      <th>current</th>\n",
              "      <th>risk</th>\n",
              "    </tr>\n",
              "  </thead>\n",
              "  <tbody>\n",
              "    <tr>\n",
              "      <th>0</th>\n",
              "      <td>MMM</td>\n",
              "      <td>{'esg_rating': 'aaa', 'esg_category': 'leader'}</td>\n",
              "      <td>0.142857</td>\n",
              "    </tr>\n",
              "    <tr>\n",
              "      <th>89</th>\n",
              "      <td>ECL</td>\n",
              "      <td>{'esg_rating': 'aaa', 'esg_category': 'leader'}</td>\n",
              "      <td>0.142857</td>\n",
              "    </tr>\n",
              "    <tr>\n",
              "      <th>101</th>\n",
              "      <td>EXPD</td>\n",
              "      <td>{'esg_rating': 'aaa', 'esg_category': 'leader'}</td>\n",
              "      <td>0.142857</td>\n",
              "    </tr>\n",
              "    <tr>\n",
              "      <th>123</th>\n",
              "      <td>GWW</td>\n",
              "      <td>{'esg_rating': 'aaa', 'esg_category': 'leader'}</td>\n",
              "      <td>0.142857</td>\n",
              "    </tr>\n",
              "    <tr>\n",
              "      <th>154</th>\n",
              "      <td>JCI</td>\n",
              "      <td>{'esg_rating': 'aaa', 'esg_category': 'leader'}</td>\n",
              "      <td>0.142857</td>\n",
              "    </tr>\n",
              "    <tr>\n",
              "      <th>...</th>\n",
              "      <td>...</td>\n",
              "      <td>...</td>\n",
              "      <td>...</td>\n",
              "    </tr>\n",
              "    <tr>\n",
              "      <th>203</th>\n",
              "      <td>NWSA</td>\n",
              "      <td>{'esg_rating': 'ccc', 'esg_category': 'laggard'}</td>\n",
              "      <td>1.000000</td>\n",
              "    </tr>\n",
              "    <tr>\n",
              "      <th>204</th>\n",
              "      <td>NWS</td>\n",
              "      <td>{'esg_rating': 'ccc', 'esg_category': 'laggard'}</td>\n",
              "      <td>1.000000</td>\n",
              "    </tr>\n",
              "    <tr>\n",
              "      <th>83</th>\n",
              "      <td>DISH</td>\n",
              "      <td>{'esg_rating': 'ccc', 'esg_category': 'laggard'}</td>\n",
              "      <td>1.000000</td>\n",
              "    </tr>\n",
              "    <tr>\n",
              "      <th>152</th>\n",
              "      <td>SJM</td>\n",
              "      <td>{'esg_rating': 'ccc', 'esg_category': 'laggard'}</td>\n",
              "      <td>1.000000</td>\n",
              "    </tr>\n",
              "    <tr>\n",
              "      <th>192</th>\n",
              "      <td>MNST</td>\n",
              "      <td>{'esg_rating': 'ccc', 'esg_category': 'laggard'}</td>\n",
              "      <td>1.000000</td>\n",
              "    </tr>\n",
              "  </tbody>\n",
              "</table>\n",
              "<p>296 rows × 3 columns</p>\n",
              "</div>"
            ],
            "text/plain": [
              "    Ticker                                           current      risk\n",
              "0      MMM   {'esg_rating': 'aaa', 'esg_category': 'leader'}  0.142857\n",
              "89     ECL   {'esg_rating': 'aaa', 'esg_category': 'leader'}  0.142857\n",
              "101   EXPD   {'esg_rating': 'aaa', 'esg_category': 'leader'}  0.142857\n",
              "123    GWW   {'esg_rating': 'aaa', 'esg_category': 'leader'}  0.142857\n",
              "154    JCI   {'esg_rating': 'aaa', 'esg_category': 'leader'}  0.142857\n",
              "..     ...                                               ...       ...\n",
              "203   NWSA  {'esg_rating': 'ccc', 'esg_category': 'laggard'}  1.000000\n",
              "204    NWS  {'esg_rating': 'ccc', 'esg_category': 'laggard'}  1.000000\n",
              "83    DISH  {'esg_rating': 'ccc', 'esg_category': 'laggard'}  1.000000\n",
              "152    SJM  {'esg_rating': 'ccc', 'esg_category': 'laggard'}  1.000000\n",
              "192   MNST  {'esg_rating': 'ccc', 'esg_category': 'laggard'}  1.000000\n",
              "\n",
              "[296 rows x 3 columns]"
            ]
          },
          "execution_count": 17,
          "metadata": {},
          "output_type": "execute_result"
        }
      ],
      "source": [
        "df.sort_values(\"risk\")"
      ]
    },
    {
      "cell_type": "code",
      "execution_count": 18,
      "metadata": {},
      "outputs": [],
      "source": [
        "tickers = \" \".join(list(df['Ticker']))"
      ]
    },
    {
      "cell_type": "code",
      "execution_count": 19,
      "metadata": {
        "id": "4KTRZcVgFDUo"
      },
      "outputs": [
        {
          "name": "stdout",
          "output_type": "stream",
          "text": [
            "[*********************100%%**********************]  296 of 296 completed"
          ]
        },
        {
          "name": "stderr",
          "output_type": "stream",
          "text": [
            "\n",
            "24 Failed downloads:\n",
            "['DISCA', 'FISV', 'PKI', 'VAR', 'FB', 'KSU', 'CTXS', 'RE', 'FBHS', 'CERN', 'MON', 'COG', 'ABC', 'MYL', 'ADS', 'ANTM', 'LB', 'AGN', 'STI', 'ALXN']: Exception('%ticker%: No timezone found, symbol may be delisted')\n",
            "['BF.B', 'WYN']: Exception('%ticker%: No price data found, symbol may be delisted (1d 2018-01-01 -> 2021-01-01)')\n",
            "['PX', 'CHK']: Exception(\"%ticker%: Data doesn't exist for startDate = 1514782800, endDate = 1609477200\")\n"
          ]
        },
        {
          "name": "stdout",
          "output_type": "stream",
          "text": [
            "\n",
            "                     Adj Close                                        \\\n",
            "                             A        AAL       ABBV ABC         ACN   \n",
            "Date                                                                   \n",
            "2018-01-02 00:00:00  64.734879  51.647564  74.990402 NaN  140.888611   \n",
            "2018-01-03 00:00:00  66.381973  51.014027  76.163902 NaN  141.538879   \n",
            "2018-01-04 00:00:00  65.884010  51.335667  75.729546 NaN  143.214783   \n",
            "2018-01-05 00:00:00  66.937386  51.316170  77.047844 NaN  144.396194   \n",
            "2018-01-08 00:00:00  67.081024  50.809349  75.813370 NaN  145.550110   \n",
            "\n",
            "                                                                     ...  \\\n",
            "                           ADI         ADP ADS        AEE       AES  ...   \n",
            "Date                                                                 ...   \n",
            "2018-01-02 00:00:00  80.850525  102.931908 NaN  49.885036  8.989432  ...   \n",
            "2018-01-03 00:00:00  81.853554  104.050049 NaN  49.628742  8.981170  ...   \n",
            "2018-01-04 00:00:00  81.763985  105.043961 NaN  49.064877  8.948118  ...   \n",
            "2018-01-05 00:00:00  82.095345  104.981857 NaN  49.030704  8.981170  ...   \n",
            "2018-01-08 00:00:00  82.238617  104.662384 NaN  49.611660  8.981170  ...   \n",
            "\n",
            "                      Volume                                            \\\n",
            "                          WM      WMB       WMT        WU       WY WYN   \n",
            "Date                                                                     \n",
            "2018-01-02 00:00:00  1885600  4480300  10150500   6822500  3144000 NaN   \n",
            "2018-01-03 00:00:00  2104800  8969500   8903600   6250400  2922800 NaN   \n",
            "2018-01-04 00:00:00  2539400  7298600   6830400   9184200  2727800 NaN   \n",
            "2018-01-05 00:00:00  1606400  6366700   7284000  16589600  2924800 NaN   \n",
            "2018-01-08 00:00:00  1529200  5546000   8843900  23503200  2760800 NaN   \n",
            "\n",
            "                                                         \n",
            "                          XOM     XYL      ZBH      ZTS  \n",
            "Date                                                     \n",
            "2018-01-02 00:00:00  11469300  877800  1818259  2135600  \n",
            "2018-01-03 00:00:00  13957700  778800  1368664  2328200  \n",
            "2018-01-04 00:00:00  10863000  796500  1105396  2534000  \n",
            "2018-01-05 00:00:00  11047600  666800  1095302  2166100  \n",
            "2018-01-08 00:00:00  10927100  554700  1286985  3631400  \n",
            "\n",
            "[5 rows x 1776 columns]\n"
          ]
        }
      ],
      "source": [
        "import yfinance as yf\n",
        "\n",
        "yfdata=yf.download(tickers,start=\"2018-01-01\",end=\"2021-01-01\")\n",
        "print(yfdata.head())"
      ]
    },
    {
      "cell_type": "code",
      "execution_count": 20,
      "metadata": {},
      "outputs": [
        {
          "name": "stdout",
          "output_type": "stream",
          "text": [
            "ccc MNST SJM\n",
            "b ABC ABC\n",
            "bb ALXN T\n",
            "bbb A AFL\n",
            "a ABBV AES\n",
            "aa ALLE LNT\n",
            "aaa ADS ADS\n"
          ]
        },
        {
          "data": {
            "image/png": "[encoded data removed]",
            "text/plain": [
              "<Figure size 640x480 with 1 Axes>"
            ]
          },
          "metadata": {},
          "output_type": "display_data"
        },
        {
          "name": "stdout",
          "output_type": "stream",
          "text": [
            "ccc: pink\n",
            "b: black\n",
            "bb: green\n",
            "bbb: cyan\n",
            "a: yellow\n",
            "aa: blue\n",
            "aaa: red\n"
          ]
        }
      ],
      "source": [
        "import matplotlib.pyplot  as plt\n",
        "import random\n",
        "colors = ['red', 'blue', 'yellow', 'cyan', 'green', 'black', 'pink']\n",
        "legend = {}\n",
        "def plot(data1, data2, rating):\n",
        "    plt.plot(data1.index, data1, label=f'{rating} Adjusted Close', color = colors[rep[rating] - 1])\n",
        "    plt.plot(data2.index, data2, label=f'{rating} Adjusted Close', color = colors[rep[rating] - 1])\n",
        "    plt.title('Adjusted Close Price Over Time')\n",
        "    legend[rating] = colors[rep[rating] - 1]\n",
        "    plt.xlabel('Date')\n",
        "    plt.ylabel('Adjusted Close Price')\n",
        "\n",
        "for key in rep:\n",
        "    ticker1 = list(df[df['current'].apply(lambda x : x['esg_rating'] == key)]['Ticker'])[random.randrange(0,3)]\n",
        "    ticker2 = list(df[df['current'].apply(lambda x : x['esg_rating'] == key)]['Ticker'])[random.randrange(0,3)]\n",
        "    plot(yfdata['Adj Close'][ticker1],yfdata['Adj Close'][ticker2], key)\n",
        "    print(key, ticker1, ticker2)\n",
        "plt.show()\n",
        "for key in legend:\n",
        "    print(f\"{key}: {legend[key]}\")"
      ]
    },
    {
      "attachments": {
        "image.png": {
          "image/png": "[encoded data removed]"
        }
      },
      "cell_type": "markdown",
      "metadata": {},
      "source": [
        "![image.png](attachment:image.png)\n",
        "\n",
        "ccc: pink\n",
        "b: black\n",
        "bb: green\n",
        "bbb: cyan\n",
        "a: yellow\n",
        "aa: blue\n",
        "aaa: red"
      ]
    },
    {
      "cell_type": "markdown",
      "metadata": {},
      "source": [
        "Above, I graphed the change in closing stock price for 2 random companies from each rating over the time interval. I was hoping to find some sort of interesting facts or movements in the graph. I think it's interesting that all of the companieswere increasing up until about 2020, then hit a sharp decline and rose back up. It seems like COVID shocked the market into a recession but the stimulus checks and government initiatives made it come back. I was surpised that red (triple A ESG) did not perform better. One of them started low and didn't get better while the other started high, went down, and didn't come back up. I would have thought that the triple A ESG would have a high closing price because they are highly invested in. My last analysis was that most of the companies with a low rating (Bs, CCC, and A) are very close to each other in terms of closing price, but The double A and Triple A have a wide disparity for closing price. I'm not sure why this is the case, maybe because they're at opposite ends of the market?"
      ]
    },
    {
      "cell_type": "code",
      "execution_count": 21,
      "metadata": {},
      "outputs": [],
      "source": [
        "# formula must\n",
        "    # Minimize risk ESG\n",
        "    # Incentivise buying when closing price is going down\n",
        "    # Incentivise selling when closing price is going up\n",
        "open_close = yfdata[['Open', 'Adj Close']]"
      ]
    },
    {
      "cell_type": "code",
      "execution_count": 22,
      "metadata": {},
      "outputs": [
        {
          "name": "stderr",
          "output_type": "stream",
          "text": [
            "/var/folders/mn/15m_21d906xb2924c26v260h0000gn/T/ipykernel_22058/2773332945.py:2: SettingWithCopyWarning: \n",
            "A value is trying to be set on a copy of a slice from a DataFrame.\n",
            "Try using .loc[row_indexer,col_indexer] = value instead\n",
            "\n",
            "See the caveats in the documentation: https://pandas.pydata.org/pandas-docs/stable/user_guide/indexing.html#returning-a-view-versus-a-copy\n",
            "  open_close[('10 AVG', stock)] = open_close['Adj Close'][stock].rolling(window=10).mean()\n"
          ]
        }
      ],
      "source": [
        "for stock in open_close[\"Adj Close\"].columns:\n",
        "    open_close[('10 AVG', stock)] = open_close['Adj Close'][stock].rolling(window=10).mean()"
      ]
    },
    {
      "cell_type": "code",
      "execution_count": 23,
      "metadata": {},
      "outputs": [
        {
          "data": {
            "text/html": [
              "<div>\n",
              "<style scoped>\n",
              "    .dataframe tbody tr th:only-of-type {\n",
              "        vertical-align: middle;\n",
              "    }\n",
              "\n",
              "    .dataframe tbody tr th {\n",
              "        vertical-align: top;\n",
              "    }\n",
              "\n",
              "    .dataframe thead tr th {\n",
              "        text-align: left;\n",
              "    }\n",
              "\n",
              "    .dataframe thead tr:last-of-type th {\n",
              "        text-align: right;\n",
              "    }\n",
              "</style>\n",
              "<table border=\"1\" class=\"dataframe\">\n",
              "  <thead>\n",
              "    <tr>\n",
              "      <th></th>\n",
              "      <th colspan=\"10\" halign=\"left\">Open</th>\n",
              "      <th>...</th>\n",
              "      <th colspan=\"10\" halign=\"left\">10 AVG</th>\n",
              "    </tr>\n",
              "    <tr>\n",
              "      <th></th>\n",
              "      <th>A</th>\n",
              "      <th>AAL</th>\n",
              "      <th>ABBV</th>\n",
              "      <th>ABC</th>\n",
              "      <th>ACN</th>\n",
              "      <th>ADI</th>\n",
              "      <th>ADP</th>\n",
              "      <th>ADS</th>\n",
              "      <th>AEE</th>\n",
              "      <th>AES</th>\n",
              "      <th>...</th>\n",
              "      <th>WM</th>\n",
              "      <th>WMB</th>\n",
              "      <th>WMT</th>\n",
              "      <th>WU</th>\n",
              "      <th>WY</th>\n",
              "      <th>WYN</th>\n",
              "      <th>XOM</th>\n",
              "      <th>XYL</th>\n",
              "      <th>ZBH</th>\n",
              "      <th>ZTS</th>\n",
              "    </tr>\n",
              "    <tr>\n",
              "      <th>Date</th>\n",
              "      <th></th>\n",
              "      <th></th>\n",
              "      <th></th>\n",
              "      <th></th>\n",
              "      <th></th>\n",
              "      <th></th>\n",
              "      <th></th>\n",
              "      <th></th>\n",
              "      <th></th>\n",
              "      <th></th>\n",
              "      <th></th>\n",
              "      <th></th>\n",
              "      <th></th>\n",
              "      <th></th>\n",
              "      <th></th>\n",
              "      <th></th>\n",
              "      <th></th>\n",
              "      <th></th>\n",
              "      <th></th>\n",
              "      <th></th>\n",
              "      <th></th>\n",
              "    </tr>\n",
              "  </thead>\n",
              "  <tbody>\n",
              "    <tr>\n",
              "      <th>2018-01-02 00:00:00</th>\n",
              "      <td>67.419998</td>\n",
              "      <td>52.330002</td>\n",
              "      <td>97.139999</td>\n",
              "      <td>NaN</td>\n",
              "      <td>153.500000</td>\n",
              "      <td>89.239998</td>\n",
              "      <td>116.029999</td>\n",
              "      <td>NaN</td>\n",
              "      <td>58.980000</td>\n",
              "      <td>10.87</td>\n",
              "      <td>...</td>\n",
              "      <td>NaN</td>\n",
              "      <td>NaN</td>\n",
              "      <td>NaN</td>\n",
              "      <td>NaN</td>\n",
              "      <td>NaN</td>\n",
              "      <td>NaN</td>\n",
              "      <td>NaN</td>\n",
              "      <td>NaN</td>\n",
              "      <td>NaN</td>\n",
              "      <td>NaN</td>\n",
              "    </tr>\n",
              "    <tr>\n",
              "      <th>2018-01-03 00:00:00</th>\n",
              "      <td>67.620003</td>\n",
              "      <td>52.860001</td>\n",
              "      <td>98.550003</td>\n",
              "      <td>NaN</td>\n",
              "      <td>152.990005</td>\n",
              "      <td>90.279999</td>\n",
              "      <td>116.180000</td>\n",
              "      <td>NaN</td>\n",
              "      <td>58.160000</td>\n",
              "      <td>10.85</td>\n",
              "      <td>...</td>\n",
              "      <td>NaN</td>\n",
              "      <td>NaN</td>\n",
              "      <td>NaN</td>\n",
              "      <td>NaN</td>\n",
              "      <td>NaN</td>\n",
              "      <td>NaN</td>\n",
              "      <td>NaN</td>\n",
              "      <td>NaN</td>\n",
              "      <td>NaN</td>\n",
              "      <td>NaN</td>\n",
              "    </tr>\n",
              "    <tr>\n",
              "      <th>2018-01-04 00:00:00</th>\n",
              "      <td>69.540001</td>\n",
              "      <td>52.480000</td>\n",
              "      <td>100.070000</td>\n",
              "      <td>NaN</td>\n",
              "      <td>155.000000</td>\n",
              "      <td>91.870003</td>\n",
              "      <td>117.629997</td>\n",
              "      <td>NaN</td>\n",
              "      <td>57.959999</td>\n",
              "      <td>10.84</td>\n",
              "      <td>...</td>\n",
              "      <td>NaN</td>\n",
              "      <td>NaN</td>\n",
              "      <td>NaN</td>\n",
              "      <td>NaN</td>\n",
              "      <td>NaN</td>\n",
              "      <td>NaN</td>\n",
              "      <td>NaN</td>\n",
              "      <td>NaN</td>\n",
              "      <td>NaN</td>\n",
              "      <td>NaN</td>\n",
              "    </tr>\n",
              "    <tr>\n",
              "      <th>2018-01-05 00:00:00</th>\n",
              "      <td>68.730003</td>\n",
              "      <td>52.779999</td>\n",
              "      <td>99.339996</td>\n",
              "      <td>NaN</td>\n",
              "      <td>156.610001</td>\n",
              "      <td>91.519997</td>\n",
              "      <td>118.550003</td>\n",
              "      <td>NaN</td>\n",
              "      <td>57.619999</td>\n",
              "      <td>10.86</td>\n",
              "      <td>...</td>\n",
              "      <td>NaN</td>\n",
              "      <td>NaN</td>\n",
              "      <td>NaN</td>\n",
              "      <td>NaN</td>\n",
              "      <td>NaN</td>\n",
              "      <td>NaN</td>\n",
              "      <td>NaN</td>\n",
              "      <td>NaN</td>\n",
              "      <td>NaN</td>\n",
              "      <td>NaN</td>\n",
              "    </tr>\n",
              "    <tr>\n",
              "      <th>2018-01-08 00:00:00</th>\n",
              "      <td>69.730003</td>\n",
              "      <td>52.599998</td>\n",
              "      <td>101.279999</td>\n",
              "      <td>NaN</td>\n",
              "      <td>157.369995</td>\n",
              "      <td>91.809998</td>\n",
              "      <td>118.370003</td>\n",
              "      <td>NaN</td>\n",
              "      <td>57.610001</td>\n",
              "      <td>10.90</td>\n",
              "      <td>...</td>\n",
              "      <td>NaN</td>\n",
              "      <td>NaN</td>\n",
              "      <td>NaN</td>\n",
              "      <td>NaN</td>\n",
              "      <td>NaN</td>\n",
              "      <td>NaN</td>\n",
              "      <td>NaN</td>\n",
              "      <td>NaN</td>\n",
              "      <td>NaN</td>\n",
              "      <td>NaN</td>\n",
              "    </tr>\n",
              "  </tbody>\n",
              "</table>\n",
              "<p>5 rows × 888 columns</p>\n",
              "</div>"
            ],
            "text/plain": [
              "                          Open                                         \\\n",
              "                             A        AAL        ABBV ABC         ACN   \n",
              "Date                                                                    \n",
              "2018-01-02 00:00:00  67.419998  52.330002   97.139999 NaN  153.500000   \n",
              "2018-01-03 00:00:00  67.620003  52.860001   98.550003 NaN  152.990005   \n",
              "2018-01-04 00:00:00  69.540001  52.480000  100.070000 NaN  155.000000   \n",
              "2018-01-05 00:00:00  68.730003  52.779999   99.339996 NaN  156.610001   \n",
              "2018-01-08 00:00:00  69.730003  52.599998  101.279999 NaN  157.369995   \n",
              "\n",
              "                                                                  ... 10 AVG  \\\n",
              "                           ADI         ADP ADS        AEE    AES  ...     WM   \n",
              "Date                                                              ...          \n",
              "2018-01-02 00:00:00  89.239998  116.029999 NaN  58.980000  10.87  ...    NaN   \n",
              "2018-01-03 00:00:00  90.279999  116.180000 NaN  58.160000  10.85  ...    NaN   \n",
              "2018-01-04 00:00:00  91.870003  117.629997 NaN  57.959999  10.84  ...    NaN   \n",
              "2018-01-05 00:00:00  91.519997  118.550003 NaN  57.619999  10.86  ...    NaN   \n",
              "2018-01-08 00:00:00  91.809998  118.370003 NaN  57.610001  10.90  ...    NaN   \n",
              "\n",
              "                                                         \n",
              "                    WMB WMT  WU  WY WYN XOM XYL ZBH ZTS  \n",
              "Date                                                     \n",
              "2018-01-02 00:00:00 NaN NaN NaN NaN NaN NaN NaN NaN NaN  \n",
              "2018-01-03 00:00:00 NaN NaN NaN NaN NaN NaN NaN NaN NaN  \n",
              "2018-01-04 00:00:00 NaN NaN NaN NaN NaN NaN NaN NaN NaN  \n",
              "2018-01-05 00:00:00 NaN NaN NaN NaN NaN NaN NaN NaN NaN  \n",
              "2018-01-08 00:00:00 NaN NaN NaN NaN NaN NaN NaN NaN NaN  \n",
              "\n",
              "[5 rows x 888 columns]"
            ]
          },
          "execution_count": 23,
          "metadata": {},
          "output_type": "execute_result"
        }
      ],
      "source": [
        "open_close.head()"
      ]
    },
    {
      "cell_type": "code",
      "execution_count": 25,
      "metadata": {},
      "outputs": [
        {
          "name": "stderr",
          "output_type": "stream",
          "text": [
            "/var/folders/mn/15m_21d906xb2924c26v260h0000gn/T/ipykernel_22058/700820191.py:8: SettingWithCopyWarning: \n",
            "A value is trying to be set on a copy of a slice from a DataFrame.\n",
            "Try using .loc[row_indexer,col_indexer] = value instead\n",
            "\n",
            "See the caveats in the documentation: https://pandas.pydata.org/pandas-docs/stable/user_guide/indexing.html#returning-a-view-versus-a-copy\n",
            "  open_close[('Signal', stock)] = 0\n"
          ]
        },
        {
          "name": "stdout",
          "output_type": "stream",
          "text": [
            "Made $4955606.3096753135\n",
            "Cumulative Return: 6.59%\n"
          ]
        }
      ],
      "source": [
        "import pandas as pd\n",
        "import numpy as np\n",
        "import yfinance as yf\n",
        "\n",
        "stocks = open_close['Adj Close'].columns\n",
        "# Initialize signals for each stock\n",
        "for stock in stocks:\n",
        "    open_close[('Signal', stock)] = 0\n",
        "\n",
        "# Generate signals based on crossover for each stock\n",
        "for stock in stocks:\n",
        "    open_close.loc[open_close[('10 AVG', stock)] > open_close[('Adj Close', stock)], ('Signal', stock)] = 1  # buy signal\n",
        "    open_close.loc[open_close[('10 AVG', stock)] < open_close[('Adj Close', stock)], ('Signal', stock)] = -1  # Sell signal\n",
        "\n",
        "profits = {stock:0 for stock in stocks}\n",
        "intermediate_stocks = {stock: [0,0] for stock in stocks}\n",
        "cum_cost, cum_rev = 0,0\n",
        "# Backtest the strategy for each stock\n",
        "for index, row in open_close.iterrows():\n",
        "    for stock in stocks:\n",
        "        if row[('Signal', stock)] == 1:  # Buy signal\n",
        "            shares_bought = 10\n",
        "            intermediate_stocks[stock][0] += shares_bought*row[('Adj Close', stock)]\n",
        "            intermediate_stocks[stock][1] += shares_bought\n",
        "        elif row[('Signal', stock)] == -1:  # Sell signal\n",
        "            shares_held = intermediate_stocks[stock][1]\n",
        "            rev = shares_held * row[('Open', stock)]\n",
        "            cost = intermediate_stocks[stock][0]\n",
        "            profit = rev-cost\n",
        "            profits[stock] += profit\n",
        "            intermediate_stocks[stock] = [0,0]\n",
        "            cum_cost += cost\n",
        "            cum_rev += rev\n",
        "totalProfit = sum(list(profits.values()))\n",
        "print(f'Made ${totalProfit: .2f}')\n",
        "cumulative_return = (cum_rev - cum_cost) / cum_cost * 100\n",
        "print(f\"Cumulative Return: {cumulative_return:.2f}%\")\n",
        "\n"
      ]
    }
  ],
  "metadata": {
    "colab": {
      "provenance": []
    },
    "kernelspec": {
      "display_name": "Python 3",
      "name": "python3"
    },
    "language_info": {
      "codemirror_mode": {
        "name": "ipython",
        "version": 3
      },
      "file_extension": ".py",
      "mimetype": "text/x-python",
      "name": "python",
      "nbconvert_exporter": "python",
      "pygments_lexer": "ipython3",
      "version": "3.9.13"
    }
  },
  "nbformat": 4,
  "nbformat_minor": 0
}
